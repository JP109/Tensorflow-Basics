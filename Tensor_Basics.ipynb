{
  "nbformat": 4,
  "nbformat_minor": 0,
  "metadata": {
    "colab": {
      "name": "Tensor Basics.ipynb",
      "provenance": [],
      "collapsed_sections": [],
      "authorship_tag": "ABX9TyNeUqJvrpurqbGyPzM16Cyq",
      "include_colab_link": true
    },
    "kernelspec": {
      "name": "python3",
      "display_name": "Python 3"
    },
    "language_info": {
      "name": "python"
    }
  },
  "cells": [
    {
      "cell_type": "markdown",
      "metadata": {
        "id": "view-in-github",
        "colab_type": "text"
      },
      "source": [
        "<a href=\"https://colab.research.google.com/github/JP109/Tensorflow-Basics/blob/main/Tensor_Basics.ipynb\" target=\"_parent\"><img src=\"https://colab.research.google.com/assets/colab-badge.svg\" alt=\"Open In Colab\"/></a>"
      ]
    },
    {
      "cell_type": "code",
      "metadata": {
        "id": "0wgLUhRsv68E"
      },
      "source": [
        "try:\n",
        "    # %tensorflow_version only exists in Colab.\n",
        "    %tensorflow_version 2.x\n",
        "except Exception:\n",
        "    pass\n",
        "\n",
        "import tensorflow as tf\n",
        "import numpy as np"
      ],
      "execution_count": null,
      "outputs": []
    },
    {
      "cell_type": "code",
      "metadata": {
        "colab": {
          "base_uri": "https://localhost:8080/"
        },
        "id": "PXeeWPV1wTkw",
        "outputId": "3189cb75-da61-4f6c-96e8-c412d4864b4c"
      },
      "source": [
        "# Create a 1D uint8 NumPy array comprising of first 25 natural numbers\n",
        "x = np.arange(0, 25)\n",
        "x"
      ],
      "execution_count": null,
      "outputs": [
        {
          "output_type": "execute_result",
          "data": {
            "text/plain": [
              "array([ 0,  1,  2,  3,  4,  5,  6,  7,  8,  9, 10, 11, 12, 13, 14, 15, 16,\n",
              "       17, 18, 19, 20, 21, 22, 23, 24])"
            ]
          },
          "metadata": {
            "tags": []
          },
          "execution_count": 2
        }
      ]
    },
    {
      "cell_type": "code",
      "metadata": {
        "colab": {
          "base_uri": "https://localhost:8080/"
        },
        "id": "AyvDH2TDwWyx",
        "outputId": "105b0226-8d47-4bb1-aecb-9bd05977b074"
      },
      "source": [
        "# Convert NumPy array to Tensor using `tf.constant`\n",
        "x = tf.constant(x)\n",
        "x"
      ],
      "execution_count": null,
      "outputs": [
        {
          "output_type": "execute_result",
          "data": {
            "text/plain": [
              "<tf.Tensor: shape=(25,), dtype=int64, numpy=\n",
              "array([ 0,  1,  2,  3,  4,  5,  6,  7,  8,  9, 10, 11, 12, 13, 14, 15, 16,\n",
              "       17, 18, 19, 20, 21, 22, 23, 24])>"
            ]
          },
          "metadata": {
            "tags": []
          },
          "execution_count": 3
        }
      ]
    },
    {
      "cell_type": "code",
      "metadata": {
        "colab": {
          "base_uri": "https://localhost:8080/"
        },
        "id": "mHb7p5CawadN",
        "outputId": "22369183-190b-403e-b714-b3f2f5c212bb"
      },
      "source": [
        "# Square the input tensor x\n",
        "x = tf.square(x)\n",
        "x"
      ],
      "execution_count": null,
      "outputs": [
        {
          "output_type": "execute_result",
          "data": {
            "text/plain": [
              "<tf.Tensor: shape=(25,), dtype=int64, numpy=\n",
              "array([     0,      1,     16,     81,    256,    625,   1296,   2401,\n",
              "         4096,   6561,  10000,  14641,  20736,  28561,  38416,  50625,\n",
              "        65536,  83521, 104976, 130321, 160000, 194481, 234256, 279841,\n",
              "       331776])>"
            ]
          },
          "metadata": {
            "tags": []
          },
          "execution_count": 5
        }
      ]
    },
    {
      "cell_type": "code",
      "metadata": {
        "colab": {
          "base_uri": "https://localhost:8080/"
        },
        "id": "raFvNprrwfB5",
        "outputId": "12ef4294-2d66-4b35-8df0-80743f2b19a4"
      },
      "source": [
        "# Reshape tensor x into a 5 x 5 matrix. \n",
        "x = tf.reshape(x, shape = (5, 5))\n",
        "x"
      ],
      "execution_count": null,
      "outputs": [
        {
          "output_type": "execute_result",
          "data": {
            "text/plain": [
              "<tf.Tensor: shape=(5, 5), dtype=int64, numpy=\n",
              "array([[     0,      1,     16,     81,    256],\n",
              "       [   625,   1296,   2401,   4096,   6561],\n",
              "       [ 10000,  14641,  20736,  28561,  38416],\n",
              "       [ 50625,  65536,  83521, 104976, 130321],\n",
              "       [160000, 194481, 234256, 279841, 331776]])>"
            ]
          },
          "metadata": {
            "tags": []
          },
          "execution_count": 6
        }
      ]
    },
    {
      "cell_type": "code",
      "metadata": {
        "colab": {
          "base_uri": "https://localhost:8080/"
        },
        "id": "FkU-ghIrwiJK",
        "outputId": "7909acec-14dc-4d44-8409-773d6b4d3daf"
      },
      "source": [
        "# Try this and look at the error\n",
        "# Try to change the input to `shape` to avoid an error\n",
        "tmp = tf.constant([1,2,3,4])\n",
        "tf.reshape(tmp, shape=(2,2))"
      ],
      "execution_count": null,
      "outputs": [
        {
          "output_type": "execute_result",
          "data": {
            "text/plain": [
              "<tf.Tensor: shape=(2, 2), dtype=int32, numpy=\n",
              "array([[1, 2],\n",
              "       [3, 4]], dtype=int32)>"
            ]
          },
          "metadata": {
            "tags": []
          },
          "execution_count": 7
        }
      ]
    },
    {
      "cell_type": "code",
      "metadata": {
        "colab": {
          "base_uri": "https://localhost:8080/"
        },
        "id": "LxYk0d19wlLq",
        "outputId": "e710765f-ac25-4303-cd96-281aba7000b5"
      },
      "source": [
        "# Cast tensor x into float32. Notice the change in the dtype.\n",
        "x = tf.cast(x, tf.float32)\n",
        "x"
      ],
      "execution_count": null,
      "outputs": [
        {
          "output_type": "execute_result",
          "data": {
            "text/plain": [
              "<tf.Tensor: shape=(5, 5), dtype=float32, numpy=\n",
              "array([[0.00000e+00, 1.00000e+00, 1.60000e+01, 8.10000e+01, 2.56000e+02],\n",
              "       [6.25000e+02, 1.29600e+03, 2.40100e+03, 4.09600e+03, 6.56100e+03],\n",
              "       [1.00000e+04, 1.46410e+04, 2.07360e+04, 2.85610e+04, 3.84160e+04],\n",
              "       [5.06250e+04, 6.55360e+04, 8.35210e+04, 1.04976e+05, 1.30321e+05],\n",
              "       [1.60000e+05, 1.94481e+05, 2.34256e+05, 2.79841e+05, 3.31776e+05]],\n",
              "      dtype=float32)>"
            ]
          },
          "metadata": {
            "tags": []
          },
          "execution_count": 9
        }
      ]
    },
    {
      "cell_type": "code",
      "metadata": {
        "colab": {
          "base_uri": "https://localhost:8080/"
        },
        "id": "NriQG9nxwr0n",
        "outputId": "06ce266b-a8c8-4211-bd2e-39bee1f8abb3"
      },
      "source": [
        "# Let's define a constant and see how broadcasting works in the following cell.\n",
        "y = tf.constant(2, dtype=tf.float32)\n",
        "y"
      ],
      "execution_count": null,
      "outputs": [
        {
          "output_type": "execute_result",
          "data": {
            "text/plain": [
              "<tf.Tensor: shape=(), dtype=float32, numpy=2.0>"
            ]
          },
          "metadata": {
            "tags": []
          },
          "execution_count": 10
        }
      ]
    },
    {
      "cell_type": "code",
      "metadata": {
        "colab": {
          "base_uri": "https://localhost:8080/"
        },
        "id": "hPc_YOeVwuyW",
        "outputId": "5a67ea65-e749-4d81-abd8-6b397de38fc4"
      },
      "source": [
        "# Multiply tensor `x` and `y`. `y` is multiplied to each element of x.\n",
        "result = tf.multiply(x, y)\n",
        "result"
      ],
      "execution_count": null,
      "outputs": [
        {
          "output_type": "execute_result",
          "data": {
            "text/plain": [
              "<tf.Tensor: shape=(5, 5), dtype=float32, numpy=\n",
              "array([[0.00000e+00, 2.00000e+00, 3.20000e+01, 1.62000e+02, 5.12000e+02],\n",
              "       [1.25000e+03, 2.59200e+03, 4.80200e+03, 8.19200e+03, 1.31220e+04],\n",
              "       [2.00000e+04, 2.92820e+04, 4.14720e+04, 5.71220e+04, 7.68320e+04],\n",
              "       [1.01250e+05, 1.31072e+05, 1.67042e+05, 2.09952e+05, 2.60642e+05],\n",
              "       [3.20000e+05, 3.88962e+05, 4.68512e+05, 5.59682e+05, 6.63552e+05]],\n",
              "      dtype=float32)>"
            ]
          },
          "metadata": {
            "tags": []
          },
          "execution_count": 11
        }
      ]
    },
    {
      "cell_type": "code",
      "metadata": {
        "colab": {
          "base_uri": "https://localhost:8080/"
        },
        "id": "wWHj7VoOwygA",
        "outputId": "c83664e1-bfb0-4edd-846d-0d58834f024d"
      },
      "source": [
        "# Now let's define an array that matches the number of row elements in the `x` array.\n",
        "y = tf.constant([1, 2, 3, 4, 5], dtype=tf.float32)\n",
        "y"
      ],
      "execution_count": null,
      "outputs": [
        {
          "output_type": "execute_result",
          "data": {
            "text/plain": [
              "<tf.Tensor: shape=(5,), dtype=float32, numpy=array([1., 2., 3., 4., 5.], dtype=float32)>"
            ]
          },
          "metadata": {
            "tags": []
          },
          "execution_count": 12
        }
      ]
    },
    {
      "cell_type": "code",
      "metadata": {
        "colab": {
          "base_uri": "https://localhost:8080/"
        },
        "id": "fQnPTMYFw5SH",
        "outputId": "20684e14-1fbd-40c1-9eb3-b714806bf6f8"
      },
      "source": [
        "# Let's see first the contents of `x` again.\n",
        "x"
      ],
      "execution_count": null,
      "outputs": [
        {
          "output_type": "execute_result",
          "data": {
            "text/plain": [
              "<tf.Tensor: shape=(5, 5), dtype=float32, numpy=\n",
              "array([[0.00000e+00, 1.00000e+00, 1.60000e+01, 8.10000e+01, 2.56000e+02],\n",
              "       [6.25000e+02, 1.29600e+03, 2.40100e+03, 4.09600e+03, 6.56100e+03],\n",
              "       [1.00000e+04, 1.46410e+04, 2.07360e+04, 2.85610e+04, 3.84160e+04],\n",
              "       [5.06250e+04, 6.55360e+04, 8.35210e+04, 1.04976e+05, 1.30321e+05],\n",
              "       [1.60000e+05, 1.94481e+05, 2.34256e+05, 2.79841e+05, 3.31776e+05]],\n",
              "      dtype=float32)>"
            ]
          },
          "metadata": {
            "tags": []
          },
          "execution_count": 13
        }
      ]
    },
    {
      "cell_type": "code",
      "metadata": {
        "colab": {
          "base_uri": "https://localhost:8080/"
        },
        "id": "ZWRZf854w6r8",
        "outputId": "9e531287-1336-47cd-b570-23e9de667e3a"
      },
      "source": [
        "# Add tensor `x` and `y`. `y` is added element wise to each row of `x`.\n",
        "result = x + y\n",
        "result"
      ],
      "execution_count": null,
      "outputs": [
        {
          "output_type": "execute_result",
          "data": {
            "text/plain": [
              "<tf.Tensor: shape=(5, 5), dtype=float32, numpy=\n",
              "array([[1.00000e+00, 3.00000e+00, 1.90000e+01, 8.50000e+01, 2.61000e+02],\n",
              "       [6.26000e+02, 1.29800e+03, 2.40400e+03, 4.10000e+03, 6.56600e+03],\n",
              "       [1.00010e+04, 1.46430e+04, 2.07390e+04, 2.85650e+04, 3.84210e+04],\n",
              "       [5.06260e+04, 6.55380e+04, 8.35240e+04, 1.04980e+05, 1.30326e+05],\n",
              "       [1.60001e+05, 1.94483e+05, 2.34259e+05, 2.79845e+05, 3.31781e+05]],\n",
              "      dtype=float32)>"
            ]
          },
          "metadata": {
            "tags": []
          },
          "execution_count": 14
        }
      ]
    },
    {
      "cell_type": "code",
      "metadata": {
        "colab": {
          "base_uri": "https://localhost:8080/"
        },
        "id": "ZQBecRxEw9oC",
        "outputId": "68c1e769-c2bb-49d7-e363-ae380608b22b"
      },
      "source": [
        "tf.constant([1,2,3,4], shape=(2,2))"
      ],
      "execution_count": null,
      "outputs": [
        {
          "output_type": "execute_result",
          "data": {
            "text/plain": [
              "<tf.Tensor: shape=(2, 2), dtype=int32, numpy=\n",
              "array([[1, 2],\n",
              "       [3, 4]], dtype=int32)>"
            ]
          },
          "metadata": {
            "tags": []
          },
          "execution_count": 15
        }
      ]
    },
    {
      "cell_type": "code",
      "metadata": {
        "colab": {
          "base_uri": "https://localhost:8080/"
        },
        "id": "MgFgYpRMxCXo",
        "outputId": "a188988a-f220-4ae9-b392-f63d43ea2e42"
      },
      "source": [
        "try:\n",
        "    # This will produce a ValueError\n",
        "    tf.Variable([1,2,3,4], shape=(2,2))\n",
        "except ValueError as v:\n",
        "    print(v)"
      ],
      "execution_count": null,
      "outputs": [
        {
          "output_type": "stream",
          "text": [
            "The initial value's shape ((4,)) is not compatible with the explicitly supplied `shape` argument ((2, 2)).\n"
          ],
          "name": "stdout"
        }
      ]
    }
  ]
}